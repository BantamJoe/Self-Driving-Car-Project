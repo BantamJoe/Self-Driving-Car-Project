{
 "cells": [
  {
   "cell_type": "code",
   "execution_count": 1,
   "metadata": {},
   "outputs": [
    {
     "name": "stderr",
     "output_type": "stream",
     "text": [
      "Using TensorFlow backend.\n"
     ]
    }
   ],
   "source": [
    "import numpy as np\n",
    "import socket\n",
    "from PIL import Image\n",
    "from keras.models import load_model\n",
    "%matplotlib inline\n",
    "\n",
    "width = 64\n",
    "height = 64\n",
    "channel = 3"
   ]
  },
  {
   "cell_type": "code",
   "execution_count": 2,
   "metadata": {
    "collapsed": true
   },
   "outputs": [],
   "source": [
    "lidar_model = load_model('car_model_lidar_adecuate.h5')\n",
    "camera_model = load_model('car_model_camera_adecuate.h5')"
   ]
  },
  {
   "cell_type": "code",
   "execution_count": 3,
   "metadata": {
    "collapsed": true
   },
   "outputs": [],
   "source": [
    "class EnvironmentInteraction:\n",
    "    \n",
    "    def __init__(self, Address, Port):\n",
    "        \n",
    "        self.byteDelimeter = b'\\xff' * 4 + b'\\x00' * 4 + b'\\xff' * 4 + b'\\x00' * 4 + b'\\xff' * 4\n",
    "        self.address = Address\n",
    "        self.port = Port\n",
    "        self.sock = socket.socket()\n",
    "        self.sock.bind((self.address, self.port))\n",
    "            \n",
    "        \n",
    "    def listen(self):\n",
    "        \n",
    "        self.sock.listen(1)\n",
    "        self.connection, self.address = self.sock.accept()\n",
    "        \n",
    "        \n",
    "    def step(self, action):\n",
    "        \n",
    "        self.connection.send(action.encode('utf-8'))                        # Send action to environment\n",
    "        data = self.connection.recv(768432)                                 # Get camera and lidar images as byte array\n",
    "        \n",
    "        data = data.split(self.byteDelimeter)\n",
    "        \n",
    "        camera = Image.frombytes('RGB', (64, 64), data[0])\n",
    "        lidar = Image.frombytes('RGB', (64, 64), data[1])\n",
    "                \n",
    "        return np.array(camera.getdata(), dtype = np.float32).reshape(1, width, height, channel) / 255, np.array(lidar.getdata(), dtype = np.float32).reshape(1, width, height, channel) / 255\n",
    "    \n",
    "environment = EnvironmentInteraction('', 7777) "
   ]
  },
  {
   "cell_type": "code",
   "execution_count": 4,
   "metadata": {
    "collapsed": true
   },
   "outputs": [],
   "source": [
    "lidar_target_names = ['Human', 'Clear path', 'Obstacle']\n",
    "lane_target_names = ['Left Lane', 'Right Lane']\n",
    "lastDetected = ''\n",
    "counter = 0\n",
    "obstacleDetected = False\n",
    "\n",
    "def command(lane_output, angle_output, lidar_output):\n",
    "    \n",
    "    global lidar_target_names\n",
    "    global lane_target_names\n",
    "    global counter\n",
    "    global obstacleDetected\n",
    "    \n",
    "    \n",
    "    action = '0'\n",
    "    \n",
    "    if counter == 15:\n",
    "        counter = 0\n",
    "        obstacleDetected = False\n",
    "    \n",
    "    if ((obstacleDetected) & (lidar_target_names[lidar_output] != 'Obstacle')):\n",
    "        counter += 1\n",
    "        return '0'\n",
    "    \n",
    "    if lidar_target_names[lidar_output] == 'Human':\n",
    "        action = '-999'     # Stop moving\n",
    "    elif lidar_target_names[lidar_output] == 'Obstacle':\n",
    "        obstacleDetected = True\n",
    "        if lane_target_names[lane_output] == 'Left Lane':\n",
    "            action = '45'   # move to right lane\n",
    "        else:\n",
    "            action = '-45'  # move to left lane\n",
    "    else:\n",
    "        action = str(angle_output)\n",
    "    \n",
    "    return action\n",
    "\n",
    "def AngleRange(angle):\n",
    "    if angle > 45:\n",
    "        return 45\n",
    "    elif angle < -45:\n",
    "        return -45\n",
    "    else:\n",
    "        return angle"
   ]
  },
  {
   "cell_type": "code",
   "execution_count": 12,
   "metadata": {},
   "outputs": [
    {
     "name": "stdout",
     "output_type": "stream",
     "text": [
      "<socket.socket fd=1044, family=AddressFamily.AF_INET, type=SocketKind.SOCK_STREAM, proto=0, laddr=('127.0.0.1', 7777), raddr=('127.0.0.1', 50008)>\n",
      "0.0#Left Lane#Clear path\n",
      "0.0#Left Lane#Clear path\n",
      "0.0#Left Lane#Clear path\n",
      "0.0#Left Lane#Clear path\n",
      "0.0#Left Lane#Clear path\n",
      "0.0#Left Lane#Clear path\n",
      "0.0#Left Lane#Clear path\n",
      "0.0#Left Lane#Clear path\n",
      "0.0#Left Lane#Clear path\n",
      "0.0#Left Lane#Clear path\n",
      "0.0#Left Lane#Clear path\n",
      "0.0#Left Lane#Clear path\n",
      "0.0#Left Lane#Clear path\n",
      "0.0#Left Lane#Clear path\n",
      "0.0#Left Lane#Clear path\n",
      "0.0#Left Lane#Clear path\n",
      "0.0#Left Lane#Clear path\n",
      "0.0#Left Lane#Clear path\n",
      "0.0#Left Lane#Clear path\n",
      "0.0#Left Lane#Clear path\n",
      "0.0#Left Lane#Clear path\n",
      "0.0#Left Lane#Clear path\n",
      "0.0#Left Lane#Clear path\n",
      "0.0#Left Lane#Clear path\n",
      "0.0#Left Lane#Clear path\n",
      "0.0#Left Lane#Clear path\n",
      "0.0#Left Lane#Clear path\n",
      "0.0#Left Lane#Clear path\n",
      "0.0#Left Lane#Clear path\n",
      "0.0#Left Lane#Clear path\n",
      "0.0#Left Lane#Clear path\n",
      "0.0#Left Lane#Clear path\n",
      "0.0#Left Lane#Clear path\n",
      "0.0#Left Lane#Clear path\n",
      "0.0#Left Lane#Clear path\n",
      "0.0#Left Lane#Clear path\n"
     ]
    },
    {
     "ename": "ConnectionResetError",
     "evalue": "[WinError 10054] Удаленный хост принудительно разорвал существующее подключение",
     "output_type": "error",
     "traceback": [
      "\u001b[1;31m---------------------------------------------------------------------------\u001b[0m",
      "\u001b[1;31mConnectionResetError\u001b[0m                      Traceback (most recent call last)",
      "\u001b[1;32m<ipython-input-12-614b7a61af8b>\u001b[0m in \u001b[0;36m<module>\u001b[1;34m()\u001b[0m\n\u001b[0;32m      6\u001b[0m \u001b[1;32mwhile\u001b[0m\u001b[1;33m(\u001b[0m\u001b[1;32mTrue\u001b[0m\u001b[1;33m)\u001b[0m\u001b[1;33m:\u001b[0m\u001b[1;33m\u001b[0m\u001b[0m\n\u001b[0;32m      7\u001b[0m \u001b[1;33m\u001b[0m\u001b[0m\n\u001b[1;32m----> 8\u001b[1;33m     \u001b[0mcameraImage\u001b[0m\u001b[1;33m,\u001b[0m \u001b[0mlidarImage\u001b[0m \u001b[1;33m=\u001b[0m \u001b[0menvironment\u001b[0m\u001b[1;33m.\u001b[0m\u001b[0mstep\u001b[0m\u001b[1;33m(\u001b[0m\u001b[0maction\u001b[0m\u001b[1;33m)\u001b[0m\u001b[1;33m\u001b[0m\u001b[0m\n\u001b[0m\u001b[0;32m      9\u001b[0m \u001b[1;33m\u001b[0m\u001b[0m\n\u001b[0;32m     10\u001b[0m     \u001b[0mcameraImage\u001b[0m \u001b[1;33m=\u001b[0m \u001b[0mnp\u001b[0m\u001b[1;33m.\u001b[0m\u001b[0mflip\u001b[0m\u001b[1;33m(\u001b[0m\u001b[0mcameraImage\u001b[0m\u001b[1;33m[\u001b[0m\u001b[1;36m0\u001b[0m\u001b[1;33m]\u001b[0m\u001b[1;33m,\u001b[0m \u001b[0maxis\u001b[0m \u001b[1;33m=\u001b[0m \u001b[1;36m0\u001b[0m\u001b[1;33m)\u001b[0m\u001b[1;33m\u001b[0m\u001b[0m\n",
      "\u001b[1;32m<ipython-input-3-1925e9775bf8>\u001b[0m in \u001b[0;36mstep\u001b[1;34m(self, action)\u001b[0m\n\u001b[0;32m     19\u001b[0m \u001b[1;33m\u001b[0m\u001b[0m\n\u001b[0;32m     20\u001b[0m         \u001b[0mself\u001b[0m\u001b[1;33m.\u001b[0m\u001b[0mconnection\u001b[0m\u001b[1;33m.\u001b[0m\u001b[0msend\u001b[0m\u001b[1;33m(\u001b[0m\u001b[0maction\u001b[0m\u001b[1;33m.\u001b[0m\u001b[0mencode\u001b[0m\u001b[1;33m(\u001b[0m\u001b[1;34m'utf-8'\u001b[0m\u001b[1;33m)\u001b[0m\u001b[1;33m)\u001b[0m                        \u001b[1;31m# Send action to environment\u001b[0m\u001b[1;33m\u001b[0m\u001b[0m\n\u001b[1;32m---> 21\u001b[1;33m         \u001b[0mdata\u001b[0m \u001b[1;33m=\u001b[0m \u001b[0mself\u001b[0m\u001b[1;33m.\u001b[0m\u001b[0mconnection\u001b[0m\u001b[1;33m.\u001b[0m\u001b[0mrecv\u001b[0m\u001b[1;33m(\u001b[0m\u001b[1;36m768432\u001b[0m\u001b[1;33m)\u001b[0m                                 \u001b[1;31m# Get camera and lidar images as byte array\u001b[0m\u001b[1;33m\u001b[0m\u001b[0m\n\u001b[0m\u001b[0;32m     22\u001b[0m \u001b[1;33m\u001b[0m\u001b[0m\n\u001b[0;32m     23\u001b[0m         \u001b[0mdata\u001b[0m \u001b[1;33m=\u001b[0m \u001b[0mdata\u001b[0m\u001b[1;33m.\u001b[0m\u001b[0msplit\u001b[0m\u001b[1;33m(\u001b[0m\u001b[0mself\u001b[0m\u001b[1;33m.\u001b[0m\u001b[0mbyteDelimeter\u001b[0m\u001b[1;33m)\u001b[0m\u001b[1;33m\u001b[0m\u001b[0m\n",
      "\u001b[1;31mConnectionResetError\u001b[0m: [WinError 10054] Удаленный хост принудительно разорвал существующее подключение"
     ]
    }
   ],
   "source": [
    "environment.listen()\n",
    "print(environment.connection)\n",
    "\n",
    "action = '0#_#_'\n",
    "\n",
    "while(True):\n",
    "        \n",
    "    cameraImage, lidarImage = environment.step(action)\n",
    "    \n",
    "    cameraImage = np.flip(cameraImage[0], axis = 0)    \n",
    "    lidarImage = np.flip(lidarImage[0], axis = 0)\n",
    "    \n",
    "    camera_output = camera_model.predict(np.array(cameraImage).reshape(1, width, height, channel))\n",
    "    lidar_output = lidar_model.predict(np.array(lidarImage).reshape(1, width, height, channel))\n",
    "    \n",
    "    angle = AngleRange((-1 * camera_output[1][0][0] + camera_output[1][0][1]) * 60)\n",
    "    \n",
    "    action = command(np.argmax(camera_output[0]), angle, np.argmax(lidar_output)) + '#' + lane_target_names[np.argmax(camera_output[0])] + '#' + lidar_target_names[np.argmax(lidar_output)]\n",
    "    \n",
    "    print(action)"
   ]
  }
 ],
 "metadata": {
  "kernelspec": {
   "display_name": "Python 3",
   "language": "python",
   "name": "python3"
  },
  "language_info": {
   "codemirror_mode": {
    "name": "ipython",
    "version": 3
   },
   "file_extension": ".py",
   "mimetype": "text/x-python",
   "name": "python",
   "nbconvert_exporter": "python",
   "pygments_lexer": "ipython3",
   "version": "3.6.3"
  }
 },
 "nbformat": 4,
 "nbformat_minor": 2
}
